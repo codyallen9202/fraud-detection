{
 "cells": [
  {
   "cell_type": "markdown",
   "metadata": {},
   "source": [
    "## Credit Card Fraud \n",
    "\n",
    "Cody Allen, Chase Walsh, Pedro Storch"
   ]
  },
  {
   "cell_type": "code",
   "execution_count": 90,
   "metadata": {
    "execution": {
     "iopub.execute_input": "2024-10-02T00:20:16.853073Z",
     "iopub.status.busy": "2024-10-02T00:20:16.852615Z",
     "iopub.status.idle": "2024-10-02T00:20:22.207098Z",
     "shell.execute_reply": "2024-10-02T00:20:22.205936Z",
     "shell.execute_reply.started": "2024-10-02T00:20:16.853029Z"
    },
    "trusted": true
   },
   "outputs": [],
   "source": [
    "import pandas as pd\n",
    "import numpy as np\n",
    "import seaborn as sns\n",
    "import matplotlib.pyplot as plt\n",
    "import os\n",
    "from geopy.distance import geodesic\n",
    "import math\n",
    "from sklearn.model_selection import train_test_split\n",
    "from sklearn.linear_model import LogisticRegression\n",
    "from sklearn.preprocessing import StandardScaler\n",
    "import statsmodels.api as sm\n",
    "import statsmodels.formula.api as smf\n",
    "from sklearn.preprocessing import LabelEncoder\n",
    "from sklearn.metrics import confusion_matrix, roc_curve, roc_auc_score, classification_report\n",
    "import warnings\n",
    "warnings.filterwarnings('ignore')"
   ]
  },
  {
   "cell_type": "code",
   "execution_count": 91,
   "metadata": {
    "execution": {
     "iopub.execute_input": "2024-10-02T00:20:28.423835Z",
     "iopub.status.busy": "2024-10-02T00:20:28.423172Z",
     "iopub.status.idle": "2024-10-02T00:20:28.524955Z",
     "shell.execute_reply": "2024-10-02T00:20:28.523722Z",
     "shell.execute_reply.started": "2024-10-02T00:20:28.423789Z"
    },
    "trusted": true
   },
   "outputs": [],
   "source": [
    "\n",
    "df = pd.read_csv(\"fraud_data.csv\")"
   ]
  },
  {
   "cell_type": "code",
   "execution_count": 92,
   "metadata": {
    "execution": {
     "iopub.execute_input": "2024-10-02T00:20:31.163719Z",
     "iopub.status.busy": "2024-10-02T00:20:31.16324Z",
     "iopub.status.idle": "2024-10-02T00:20:31.201519Z",
     "shell.execute_reply": "2024-10-02T00:20:31.200417Z",
     "shell.execute_reply.started": "2024-10-02T00:20:31.163677Z"
    },
    "trusted": true
   },
   "outputs": [
    {
     "data": {
      "text/html": [
       "<div>\n",
       "<style scoped>\n",
       "    .dataframe tbody tr th:only-of-type {\n",
       "        vertical-align: middle;\n",
       "    }\n",
       "\n",
       "    .dataframe tbody tr th {\n",
       "        vertical-align: top;\n",
       "    }\n",
       "\n",
       "    .dataframe thead th {\n",
       "        text-align: right;\n",
       "    }\n",
       "</style>\n",
       "<table border=\"1\" class=\"dataframe\">\n",
       "  <thead>\n",
       "    <tr style=\"text-align: right;\">\n",
       "      <th></th>\n",
       "      <th>trans_date_trans_time</th>\n",
       "      <th>merchant</th>\n",
       "      <th>category</th>\n",
       "      <th>amt</th>\n",
       "      <th>city</th>\n",
       "      <th>state</th>\n",
       "      <th>lat</th>\n",
       "      <th>long</th>\n",
       "      <th>city_pop</th>\n",
       "      <th>job</th>\n",
       "      <th>dob</th>\n",
       "      <th>trans_num</th>\n",
       "      <th>merch_lat</th>\n",
       "      <th>merch_long</th>\n",
       "      <th>is_fraud</th>\n",
       "    </tr>\n",
       "  </thead>\n",
       "  <tbody>\n",
       "    <tr>\n",
       "      <th>0</th>\n",
       "      <td>04-01-2019 00:58</td>\n",
       "      <td>\"Stokes, Christiansen and Sipes\"</td>\n",
       "      <td>grocery_net</td>\n",
       "      <td>14.37</td>\n",
       "      <td>Wales</td>\n",
       "      <td>AK</td>\n",
       "      <td>64.7556</td>\n",
       "      <td>-165.6723</td>\n",
       "      <td>145</td>\n",
       "      <td>\"Administrator, education\"</td>\n",
       "      <td>09-11-1939</td>\n",
       "      <td>a3806e984cec6ac0096d8184c64ad3a1</td>\n",
       "      <td>65.654142</td>\n",
       "      <td>-164.722603</td>\n",
       "      <td>1</td>\n",
       "    </tr>\n",
       "    <tr>\n",
       "      <th>1</th>\n",
       "      <td>04-01-2019 15:06</td>\n",
       "      <td>Predovic Inc</td>\n",
       "      <td>shopping_net</td>\n",
       "      <td>966.11</td>\n",
       "      <td>Wales</td>\n",
       "      <td>AK</td>\n",
       "      <td>64.7556</td>\n",
       "      <td>-165.6723</td>\n",
       "      <td>145</td>\n",
       "      <td>\"Administrator, education\"</td>\n",
       "      <td>09-11-1939</td>\n",
       "      <td>a59185fe1b9ccf21323f581d7477573f</td>\n",
       "      <td>65.468863</td>\n",
       "      <td>-165.473127</td>\n",
       "      <td>1</td>\n",
       "    </tr>\n",
       "    <tr>\n",
       "      <th>2</th>\n",
       "      <td>04-01-2019 22:37</td>\n",
       "      <td>Wisozk and Sons</td>\n",
       "      <td>misc_pos</td>\n",
       "      <td>49.61</td>\n",
       "      <td>Wales</td>\n",
       "      <td>AK</td>\n",
       "      <td>64.7556</td>\n",
       "      <td>-165.6723</td>\n",
       "      <td>145</td>\n",
       "      <td>\"Administrator, education\"</td>\n",
       "      <td>09-11-1939</td>\n",
       "      <td>86ba3a888b42cd3925881fa34177b4e0</td>\n",
       "      <td>65.347667</td>\n",
       "      <td>-165.914542</td>\n",
       "      <td>1</td>\n",
       "    </tr>\n",
       "    <tr>\n",
       "      <th>3</th>\n",
       "      <td>04-01-2019 23:06</td>\n",
       "      <td>Murray-Smitham</td>\n",
       "      <td>grocery_pos</td>\n",
       "      <td>295.26</td>\n",
       "      <td>Wales</td>\n",
       "      <td>AK</td>\n",
       "      <td>64.7556</td>\n",
       "      <td>-165.6723</td>\n",
       "      <td>145</td>\n",
       "      <td>\"Administrator, education\"</td>\n",
       "      <td>09-11-1939</td>\n",
       "      <td>3a068fe1d856f0ecedbed33e4b5f4496</td>\n",
       "      <td>64.445035</td>\n",
       "      <td>-166.080207</td>\n",
       "      <td>1</td>\n",
       "    </tr>\n",
       "    <tr>\n",
       "      <th>4</th>\n",
       "      <td>04-01-2019 23:59</td>\n",
       "      <td>Friesen Lt</td>\n",
       "      <td>health_fitness</td>\n",
       "      <td>18.17</td>\n",
       "      <td>Wales</td>\n",
       "      <td>AK</td>\n",
       "      <td>64.7556</td>\n",
       "      <td>-165.6723</td>\n",
       "      <td>145</td>\n",
       "      <td>\"Administrator, education\"</td>\n",
       "      <td>09-11-1939</td>\n",
       "      <td>891cdd1191028759dc20dc224347a0ff</td>\n",
       "      <td>65.447094</td>\n",
       "      <td>-165.446843</td>\n",
       "      <td>1</td>\n",
       "    </tr>\n",
       "    <tr>\n",
       "      <th>...</th>\n",
       "      <td>...</td>\n",
       "      <td>...</td>\n",
       "      <td>...</td>\n",
       "      <td>...</td>\n",
       "      <td>...</td>\n",
       "      <td>...</td>\n",
       "      <td>...</td>\n",
       "      <td>...</td>\n",
       "      <td>...</td>\n",
       "      <td>...</td>\n",
       "      <td>...</td>\n",
       "      <td>...</td>\n",
       "      <td>...</td>\n",
       "      <td>...</td>\n",
       "      <td>...</td>\n",
       "    </tr>\n",
       "    <tr>\n",
       "      <th>14441</th>\n",
       "      <td>22-01-2019 00:37</td>\n",
       "      <td>Hudson-Grady</td>\n",
       "      <td>shopping_pos</td>\n",
       "      <td>122.00</td>\n",
       "      <td>Athena</td>\n",
       "      <td>OR</td>\n",
       "      <td>45.8289</td>\n",
       "      <td>-118.4971</td>\n",
       "      <td>1302</td>\n",
       "      <td>Dealer</td>\n",
       "      <td>18-10-1976</td>\n",
       "      <td>699a4c06b22711bf3e0d8ef91232d356</td>\n",
       "      <td>46.442439</td>\n",
       "      <td>-118.524214</td>\n",
       "      <td>0</td>\n",
       "    </tr>\n",
       "    <tr>\n",
       "      <th>14442</th>\n",
       "      <td>22-01-2019 00:41</td>\n",
       "      <td>\"Nienow, Ankunding and Collie\"</td>\n",
       "      <td>misc_pos</td>\n",
       "      <td>9.07</td>\n",
       "      <td>Gardiner</td>\n",
       "      <td>OR</td>\n",
       "      <td>43.7857</td>\n",
       "      <td>-124.1437</td>\n",
       "      <td>260</td>\n",
       "      <td>\"Engineer, maintenance\"</td>\n",
       "      <td>01-09-1956</td>\n",
       "      <td>080d620d24815c7d6c637cf0b71dde8e</td>\n",
       "      <td>42.901265</td>\n",
       "      <td>-124.995317</td>\n",
       "      <td>0</td>\n",
       "    </tr>\n",
       "    <tr>\n",
       "      <th>14443</th>\n",
       "      <td>22-01-2019 00:42</td>\n",
       "      <td>Pacocha-O'Reilly</td>\n",
       "      <td>grocery_pos</td>\n",
       "      <td>104.84</td>\n",
       "      <td>Alva</td>\n",
       "      <td>WY</td>\n",
       "      <td>44.6873</td>\n",
       "      <td>-104.4414</td>\n",
       "      <td>110</td>\n",
       "      <td>\"Administrator, local government\"</td>\n",
       "      <td>16-05-1973</td>\n",
       "      <td>3c346c8cd627c5fe3ed57430db2e9ae7</td>\n",
       "      <td>45.538062</td>\n",
       "      <td>-104.542117</td>\n",
       "      <td>0</td>\n",
       "    </tr>\n",
       "    <tr>\n",
       "      <th>14444</th>\n",
       "      <td>22-01-2019 00:48</td>\n",
       "      <td>\"Bins, Balistreri and Beatty\"</td>\n",
       "      <td>shopping_pos</td>\n",
       "      <td>268.16</td>\n",
       "      <td>Wales</td>\n",
       "      <td>AK</td>\n",
       "      <td>64.7556</td>\n",
       "      <td>-165.6723</td>\n",
       "      <td>145</td>\n",
       "      <td>\"Administrator, education\"</td>\n",
       "      <td>09-11-1939</td>\n",
       "      <td>e66ffcc95ba7fc490486242af1205d04</td>\n",
       "      <td>64.081462</td>\n",
       "      <td>-165.898698</td>\n",
       "      <td>0</td>\n",
       "    </tr>\n",
       "    <tr>\n",
       "      <th>14445</th>\n",
       "      <td>22-01-2019 00:55</td>\n",
       "      <td>Daugherty-Thompson</td>\n",
       "      <td>food_dining</td>\n",
       "      <td>50.09</td>\n",
       "      <td>Unionville</td>\n",
       "      <td>MO</td>\n",
       "      <td>40.4815</td>\n",
       "      <td>-92.9951</td>\n",
       "      <td>3805</td>\n",
       "      <td>\"Investment banker, corporate\"</td>\n",
       "      <td>15-09-1950</td>\n",
       "      <td>65e7370f473f9b9d75796c8033a7c929</td>\n",
       "      <td>40.387243</td>\n",
       "      <td>-92.224871</td>\n",
       "      <td>0</td>\n",
       "    </tr>\n",
       "  </tbody>\n",
       "</table>\n",
       "<p>14446 rows × 15 columns</p>\n",
       "</div>"
      ],
      "text/plain": [
       "      trans_date_trans_time                          merchant        category  \\\n",
       "0          04-01-2019 00:58  \"Stokes, Christiansen and Sipes\"     grocery_net   \n",
       "1          04-01-2019 15:06                      Predovic Inc    shopping_net   \n",
       "2          04-01-2019 22:37                   Wisozk and Sons        misc_pos   \n",
       "3          04-01-2019 23:06                    Murray-Smitham     grocery_pos   \n",
       "4          04-01-2019 23:59                        Friesen Lt  health_fitness   \n",
       "...                     ...                               ...             ...   \n",
       "14441      22-01-2019 00:37                      Hudson-Grady    shopping_pos   \n",
       "14442      22-01-2019 00:41    \"Nienow, Ankunding and Collie\"        misc_pos   \n",
       "14443      22-01-2019 00:42                  Pacocha-O'Reilly     grocery_pos   \n",
       "14444      22-01-2019 00:48     \"Bins, Balistreri and Beatty\"    shopping_pos   \n",
       "14445      22-01-2019 00:55                Daugherty-Thompson     food_dining   \n",
       "\n",
       "          amt        city state      lat      long  city_pop  \\\n",
       "0       14.37       Wales    AK  64.7556 -165.6723       145   \n",
       "1      966.11       Wales    AK  64.7556 -165.6723       145   \n",
       "2       49.61       Wales    AK  64.7556 -165.6723       145   \n",
       "3      295.26       Wales    AK  64.7556 -165.6723       145   \n",
       "4       18.17       Wales    AK  64.7556 -165.6723       145   \n",
       "...       ...         ...   ...      ...       ...       ...   \n",
       "14441  122.00      Athena    OR  45.8289 -118.4971      1302   \n",
       "14442    9.07    Gardiner    OR  43.7857 -124.1437       260   \n",
       "14443  104.84        Alva    WY  44.6873 -104.4414       110   \n",
       "14444  268.16       Wales    AK  64.7556 -165.6723       145   \n",
       "14445   50.09  Unionville    MO  40.4815  -92.9951      3805   \n",
       "\n",
       "                                     job         dob  \\\n",
       "0             \"Administrator, education\"  09-11-1939   \n",
       "1             \"Administrator, education\"  09-11-1939   \n",
       "2             \"Administrator, education\"  09-11-1939   \n",
       "3             \"Administrator, education\"  09-11-1939   \n",
       "4             \"Administrator, education\"  09-11-1939   \n",
       "...                                  ...         ...   \n",
       "14441                             Dealer  18-10-1976   \n",
       "14442            \"Engineer, maintenance\"  01-09-1956   \n",
       "14443  \"Administrator, local government\"  16-05-1973   \n",
       "14444         \"Administrator, education\"  09-11-1939   \n",
       "14445     \"Investment banker, corporate\"  15-09-1950   \n",
       "\n",
       "                              trans_num  merch_lat  merch_long is_fraud  \n",
       "0      a3806e984cec6ac0096d8184c64ad3a1  65.654142 -164.722603        1  \n",
       "1      a59185fe1b9ccf21323f581d7477573f  65.468863 -165.473127        1  \n",
       "2      86ba3a888b42cd3925881fa34177b4e0  65.347667 -165.914542        1  \n",
       "3      3a068fe1d856f0ecedbed33e4b5f4496  64.445035 -166.080207        1  \n",
       "4      891cdd1191028759dc20dc224347a0ff  65.447094 -165.446843        1  \n",
       "...                                 ...        ...         ...      ...  \n",
       "14441  699a4c06b22711bf3e0d8ef91232d356  46.442439 -118.524214        0  \n",
       "14442  080d620d24815c7d6c637cf0b71dde8e  42.901265 -124.995317        0  \n",
       "14443  3c346c8cd627c5fe3ed57430db2e9ae7  45.538062 -104.542117        0  \n",
       "14444  e66ffcc95ba7fc490486242af1205d04  64.081462 -165.898698        0  \n",
       "14445  65e7370f473f9b9d75796c8033a7c929  40.387243  -92.224871        0  \n",
       "\n",
       "[14446 rows x 15 columns]"
      ]
     },
     "execution_count": 92,
     "metadata": {},
     "output_type": "execute_result"
    }
   ],
   "source": [
    "df"
   ]
  },
  {
   "cell_type": "code",
   "execution_count": 93,
   "metadata": {
    "execution": {
     "iopub.execute_input": "2024-10-02T00:20:37.188092Z",
     "iopub.status.busy": "2024-10-02T00:20:37.186519Z",
     "iopub.status.idle": "2024-10-02T00:20:37.230316Z",
     "shell.execute_reply": "2024-10-02T00:20:37.229057Z",
     "shell.execute_reply.started": "2024-10-02T00:20:37.188027Z"
    },
    "trusted": true
   },
   "outputs": [
    {
     "name": "stdout",
     "output_type": "stream",
     "text": [
      "<class 'pandas.core.frame.DataFrame'>\n",
      "RangeIndex: 14446 entries, 0 to 14445\n",
      "Data columns (total 15 columns):\n",
      " #   Column                 Non-Null Count  Dtype  \n",
      "---  ------                 --------------  -----  \n",
      " 0   trans_date_trans_time  14446 non-null  object \n",
      " 1   merchant               14446 non-null  object \n",
      " 2   category               14446 non-null  object \n",
      " 3   amt                    14446 non-null  float64\n",
      " 4   city                   14446 non-null  object \n",
      " 5   state                  14446 non-null  object \n",
      " 6   lat                    14446 non-null  float64\n",
      " 7   long                   14446 non-null  float64\n",
      " 8   city_pop               14446 non-null  int64  \n",
      " 9   job                    14446 non-null  object \n",
      " 10  dob                    14446 non-null  object \n",
      " 11  trans_num              14446 non-null  object \n",
      " 12  merch_lat              14446 non-null  float64\n",
      " 13  merch_long             14446 non-null  float64\n",
      " 14  is_fraud               14446 non-null  object \n",
      "dtypes: float64(5), int64(1), object(9)\n",
      "memory usage: 1.7+ MB\n",
      "None\n"
     ]
    }
   ],
   "source": [
    "print(df.info())"
   ]
  },
  {
   "cell_type": "code",
   "execution_count": 94,
   "metadata": {
    "execution": {
     "iopub.execute_input": "2024-10-02T00:20:40.002355Z",
     "iopub.status.busy": "2024-10-02T00:20:40.001774Z",
     "iopub.status.idle": "2024-10-02T00:20:40.014338Z",
     "shell.execute_reply": "2024-10-02T00:20:40.013176Z",
     "shell.execute_reply.started": "2024-10-02T00:20:40.002176Z"
    },
    "trusted": true
   },
   "outputs": [
    {
     "data": {
      "text/plain": [
       "is_fraud\n",
       "0                         12600\n",
       "1                          1844\n",
       "1\"2020-12-24 16:56:24\"        1\n",
       "0\"2019-01-01 00:00:44\"        1\n",
       "Name: count, dtype: int64"
      ]
     },
     "execution_count": 94,
     "metadata": {},
     "output_type": "execute_result"
    }
   ],
   "source": [
    "#Value counts show that the data is imbalanced. Which is what would be expected for fraudulent activity.\n",
    "df['is_fraud'].value_counts()"
   ]
  },
  {
   "cell_type": "code",
   "execution_count": 95,
   "metadata": {
    "execution": {
     "iopub.execute_input": "2024-10-02T00:20:54.883866Z",
     "iopub.status.busy": "2024-10-02T00:20:54.883424Z",
     "iopub.status.idle": "2024-10-02T00:20:54.891901Z",
     "shell.execute_reply": "2024-10-02T00:20:54.890722Z",
     "shell.execute_reply.started": "2024-10-02T00:20:54.883827Z"
    },
    "trusted": true
   },
   "outputs": [],
   "source": [
    "#Dropping the two observations that are not a 0 or 1 but also have a timestamp.\n",
    "df = df[df['is_fraud'].isin(['1', '0'])]\n"
   ]
  },
  {
   "cell_type": "code",
   "execution_count": 96,
   "metadata": {
    "execution": {
     "iopub.execute_input": "2024-10-02T00:20:57.982841Z",
     "iopub.status.busy": "2024-10-02T00:20:57.982399Z",
     "iopub.status.idle": "2024-10-02T00:20:57.988896Z",
     "shell.execute_reply": "2024-10-02T00:20:57.987541Z",
     "shell.execute_reply.started": "2024-10-02T00:20:57.982797Z"
    },
    "trusted": true
   },
   "outputs": [],
   "source": [
    "#Deleting trans_num as it provides no information in the prediction of fraud.\n",
    "del df['trans_num']"
   ]
  },
  {
   "cell_type": "markdown",
   "metadata": {},
   "source": [
    "#### Feature Engineering"
   ]
  },
  {
   "cell_type": "code",
   "execution_count": 97,
   "metadata": {
    "execution": {
     "iopub.execute_input": "2024-10-02T00:21:02.012271Z",
     "iopub.status.busy": "2024-10-02T00:21:02.011857Z",
     "iopub.status.idle": "2024-10-02T00:21:02.502834Z",
     "shell.execute_reply": "2024-10-02T00:21:02.50172Z",
     "shell.execute_reply.started": "2024-10-02T00:21:02.012234Z"
    },
    "trusted": true
   },
   "outputs": [],
   "source": [
    "#Creating an age category\n",
    "df['dob'][0]\n",
    "df['age'] = (pd.to_datetime(df['trans_date_trans_time'], format=\"%d-%m-%Y %H:%M\") - \n",
    "             pd.to_datetime(df['dob'], format=\"%d-%m-%Y\")).dt.days // 365\n",
    "\n",
    "# Extracting the time of the day\n",
    "df['trans_date_trans_time'][0]\n",
    "df['trans_date_trans_time'] = pd.to_datetime(df['trans_date_trans_time'], format=\"%d-%m-%Y %H:%M\")\n",
    "df['time_of_day'] = df['trans_date_trans_time'].dt.strftime('%H:%M')\n",
    "\n",
    "# Hour of Day\n",
    "df['hour'] = df['trans_date_trans_time'].dt.hour\n",
    "\n",
    "#Extracting day of the week.\n",
    "df['day_of_week'] = df['trans_date_trans_time'].dt.day_name()\n",
    "\n",
    "#Create a new measure of the distance between lat and long and merchant lat and long\n",
    "## Define the Haversine function\n",
    "def haversine(lat1, lon1, lat2, lon2):\n",
    "    lat1, lon1, lat2, lon2 = map(math.radians, [lat1, lon1, lat2, lon2])\n",
    "    dlat = lat2 - lat1\n",
    "    dlon = lon2 - lon1\n",
    "    a = math.sin(dlat / 2) ** 2 + math.cos(lat1) * math.cos(lat2) * math.sin(dlon / 2) ** 2\n",
    "    c = 2 * math.asin(math.sqrt(a))\n",
    "    r = 6371.0  # Radius of Earth in kilometers\n",
    "    distance = r * c\n",
    "    return distance\n",
    "    \n",
    "## Apply Haversine function row-wise\n",
    "df['distance_km'] = df.apply(\n",
    "    lambda row: haversine(row['lat'], row['long'], row['merch_lat'], row['merch_long']),\n",
    "    axis=1\n",
    ")\n",
    "\n"
   ]
  },
  {
   "cell_type": "code",
   "execution_count": 98,
   "metadata": {
    "execution": {
     "iopub.execute_input": "2024-10-02T00:21:10.855133Z",
     "iopub.status.busy": "2024-10-02T00:21:10.85431Z",
     "iopub.status.idle": "2024-10-02T00:21:10.877442Z",
     "shell.execute_reply": "2024-10-02T00:21:10.876461Z",
     "shell.execute_reply.started": "2024-10-02T00:21:10.855088Z"
    },
    "trusted": true
   },
   "outputs": [],
   "source": [
    "#Transforming specific data into categorical variables.\n",
    "df['merchant'] = df['merchant'].astype('category')\n",
    "df['category'] = df['category'].astype('category')\n",
    "df['city'] = df['city'].astype('category')\n",
    "df['state'] = df['state'].astype('category')\n",
    "df['day_of_week'] = df['day_of_week'].astype('category')\n",
    "df['hour'] = df['hour'].astype('category')\n",
    "df['is_fraud'] = df['is_fraud'].astype(int)"
   ]
  },
  {
   "cell_type": "code",
   "execution_count": 99,
   "metadata": {
    "execution": {
     "iopub.execute_input": "2024-10-02T00:21:12.997596Z",
     "iopub.status.busy": "2024-10-02T00:21:12.996487Z",
     "iopub.status.idle": "2024-10-02T00:21:13.024174Z",
     "shell.execute_reply": "2024-10-02T00:21:13.023073Z",
     "shell.execute_reply.started": "2024-10-02T00:21:12.997543Z"
    },
    "trusted": true
   },
   "outputs": [
    {
     "name": "stdout",
     "output_type": "stream",
     "text": [
      "<class 'pandas.core.frame.DataFrame'>\n",
      "Index: 14444 entries, 0 to 14445\n",
      "Data columns (total 19 columns):\n",
      " #   Column                 Non-Null Count  Dtype         \n",
      "---  ------                 --------------  -----         \n",
      " 0   trans_date_trans_time  14444 non-null  datetime64[ns]\n",
      " 1   merchant               14444 non-null  category      \n",
      " 2   category               14444 non-null  category      \n",
      " 3   amt                    14444 non-null  float64       \n",
      " 4   city                   14444 non-null  category      \n",
      " 5   state                  14444 non-null  category      \n",
      " 6   lat                    14444 non-null  float64       \n",
      " 7   long                   14444 non-null  float64       \n",
      " 8   city_pop               14444 non-null  int64         \n",
      " 9   job                    14444 non-null  object        \n",
      " 10  dob                    14444 non-null  object        \n",
      " 11  merch_lat              14444 non-null  float64       \n",
      " 12  merch_long             14444 non-null  float64       \n",
      " 13  is_fraud               14444 non-null  int32         \n",
      " 14  age                    14444 non-null  int64         \n",
      " 15  time_of_day            14444 non-null  object        \n",
      " 16  hour                   14444 non-null  category      \n",
      " 17  day_of_week            14444 non-null  category      \n",
      " 18  distance_km            14444 non-null  float64       \n",
      "dtypes: category(6), datetime64[ns](1), float64(6), int32(1), int64(2), object(3)\n",
      "memory usage: 2.1+ MB\n",
      "None\n"
     ]
    }
   ],
   "source": [
    "#Checking the variable types.\n",
    "print(df.info())"
   ]
  },
  {
   "cell_type": "code",
   "execution_count": 100,
   "metadata": {
    "execution": {
     "iopub.execute_input": "2024-10-02T00:21:15.529068Z",
     "iopub.status.busy": "2024-10-02T00:21:15.528635Z",
     "iopub.status.idle": "2024-10-02T00:21:15.972193Z",
     "shell.execute_reply": "2024-10-02T00:21:15.971093Z",
     "shell.execute_reply.started": "2024-10-02T00:21:15.529028Z"
    },
    "trusted": true
   },
   "outputs": [
    {
     "data": {
      "image/png": "[encoded data removed]",
      "text/plain": [
       "<Figure size 1600x1200 with 2 Axes>"
      ]
     },
     "metadata": {},
     "output_type": "display_data"
    }
   ],
   "source": [
    "# The correlation matrix shows that the numeric data is not correlated.\n",
    "quantdata = df[[\"amt\", \"city_pop\", \"age\", \"distance_km\"]]\n",
    "corr_matrix = quantdata.corr()\n",
    "plt.figure(figsize=(16, 12))\n",
    "sns.heatmap(corr_matrix, annot=True, cmap='Blues')\n",
    "plt.title(\"Correlation Heatmap\")\n",
    "plt.show()"
   ]
  },
  {
   "cell_type": "code",
   "execution_count": 101,
   "metadata": {
    "execution": {
     "iopub.execute_input": "2024-10-02T00:21:18.672693Z",
     "iopub.status.busy": "2024-10-02T00:21:18.672268Z",
     "iopub.status.idle": "2024-10-02T00:21:18.685254Z",
     "shell.execute_reply": "2024-10-02T00:21:18.683973Z",
     "shell.execute_reply.started": "2024-10-02T00:21:18.672655Z"
    },
    "trusted": true
   },
   "outputs": [
    {
     "name": "stdout",
     "output_type": "stream",
     "text": [
      "trans_date_trans_time    0\n",
      "merchant                 0\n",
      "category                 0\n",
      "amt                      0\n",
      "city                     0\n",
      "state                    0\n",
      "lat                      0\n",
      "long                     0\n",
      "city_pop                 0\n",
      "job                      0\n",
      "dob                      0\n",
      "merch_lat                0\n",
      "merch_long               0\n",
      "is_fraud                 0\n",
      "age                      0\n",
      "time_of_day              0\n",
      "hour                     0\n",
      "day_of_week              0\n",
      "distance_km              0\n",
      "dtype: int64\n"
     ]
    }
   ],
   "source": [
    "#No NAs in dataset before data modeling.\n",
    "nan_counts = df.isna().sum()\n",
    "print(nan_counts)"
   ]
  },
  {
   "cell_type": "markdown",
   "metadata": {},
   "source": [
    "### Logistic Regression to Predict Fraud"
   ]
  },
  {
   "cell_type": "code",
   "execution_count": 102,
   "metadata": {
    "execution": {
     "iopub.execute_input": "2024-10-02T00:21:20.659424Z",
     "iopub.status.busy": "2024-10-02T00:21:20.658983Z",
     "iopub.status.idle": "2024-10-02T00:21:20.67753Z",
     "shell.execute_reply": "2024-10-02T00:21:20.676118Z",
     "shell.execute_reply.started": "2024-10-02T00:21:20.659382Z"
    },
    "trusted": true
   },
   "outputs": [],
   "source": [
    "#Split into Train and Test\n",
    "train_data, test_data = train_test_split(df, test_size=0.3, random_state=42)"
   ]
  },
  {
   "cell_type": "code",
   "execution_count": 103,
   "metadata": {
    "execution": {
     "iopub.execute_input": "2024-10-02T00:21:22.465781Z",
     "iopub.status.busy": "2024-10-02T00:21:22.465339Z",
     "iopub.status.idle": "2024-10-02T00:21:22.698271Z",
     "shell.execute_reply": "2024-10-02T00:21:22.697017Z",
     "shell.execute_reply.started": "2024-10-02T00:21:22.46574Z"
    },
    "trusted": true
   },
   "outputs": [
    {
     "name": "stdout",
     "output_type": "stream",
     "text": [
      "Optimization terminated successfully.\n",
      "         Current function value: 0.161777\n",
      "         Iterations 9\n"
     ]
    }
   ],
   "source": [
    "formula = \"is_fraud ~ age + amt + hour + category + state + distance_km\"\n",
    "log_reg = smf.logit(formula = formula, data = train_data).fit(maxiter=1000)"
   ]
  },
  {
   "cell_type": "code",
   "execution_count": 104,
   "metadata": {
    "execution": {
     "iopub.execute_input": "2024-10-02T00:21:25.527425Z",
     "iopub.status.busy": "2024-10-02T00:21:25.526341Z",
     "iopub.status.idle": "2024-10-02T00:21:25.77073Z",
     "shell.execute_reply": "2024-10-02T00:21:25.76942Z",
     "shell.execute_reply.started": "2024-10-02T00:21:25.527359Z"
    },
    "trusted": true
   },
   "outputs": [
    {
     "data": {
      "text/plain": [
       "0.870327641901246"
      ]
     },
     "metadata": {},
     "output_type": "display_data"
    },
    {
     "data": {
      "text/plain": [
       "0.9499307798800185"
      ]
     },
     "metadata": {},
     "output_type": "display_data"
    },
    {
     "data": {
      "text/plain": [
       "0.9513992407060075"
      ]
     },
     "metadata": {},
     "output_type": "display_data"
    },
    {
     "data": {
      "text/html": [
       "<table class=\"simpletable\">\n",
       "<caption>Logit Regression Results</caption>\n",
       "<tr>\n",
       "  <th>Dep. Variable:</th>       <td>is_fraud</td>     <th>  No. Observations:  </th>  <td> 10110</td> \n",
       "</tr>\n",
       "<tr>\n",
       "  <th>Model:</th>                 <td>Logit</td>      <th>  Df Residuals:      </th>  <td> 10058</td> \n",
       "</tr>\n",
       "<tr>\n",
       "  <th>Method:</th>                 <td>MLE</td>       <th>  Df Model:          </th>  <td>    51</td> \n",
       "</tr>\n",
       "<tr>\n",
       "  <th>Date:</th>            <td>Sun, 01 Dec 2024</td> <th>  Pseudo R-squ.:     </th>  <td>0.5746</td> \n",
       "</tr>\n",
       "<tr>\n",
       "  <th>Time:</th>                <td>08:26:45</td>     <th>  Log-Likelihood:    </th> <td> -1635.6</td>\n",
       "</tr>\n",
       "<tr>\n",
       "  <th>converged:</th>             <td>True</td>       <th>  LL-Null:           </th> <td> -3844.5</td>\n",
       "</tr>\n",
       "<tr>\n",
       "  <th>Covariance Type:</th>     <td>nonrobust</td>    <th>  LLR p-value:       </th>  <td> 0.000</td> \n",
       "</tr>\n",
       "</table>\n",
       "<table class=\"simpletable\">\n",
       "<tr>\n",
       "               <td></td>                 <th>coef</th>     <th>std err</th>      <th>z</th>      <th>P>|z|</th>  <th>[0.025</th>    <th>0.975]</th>  \n",
       "</tr>\n",
       "<tr>\n",
       "  <th>Intercept</th>                  <td>   -3.1970</td> <td>    0.506</td> <td>   -6.314</td> <td> 0.000</td> <td>   -4.189</td> <td>   -2.205</td>\n",
       "</tr>\n",
       "<tr>\n",
       "  <th>hour[T.1]</th>                  <td>   -0.0119</td> <td>    0.194</td> <td>   -0.062</td> <td> 0.951</td> <td>   -0.391</td> <td>    0.367</td>\n",
       "</tr>\n",
       "<tr>\n",
       "  <th>hour[T.2]</th>                  <td>   -0.1448</td> <td>    0.203</td> <td>   -0.714</td> <td> 0.475</td> <td>   -0.542</td> <td>    0.253</td>\n",
       "</tr>\n",
       "<tr>\n",
       "  <th>hour[T.3]</th>                  <td>   -0.1440</td> <td>    0.198</td> <td>   -0.728</td> <td> 0.467</td> <td>   -0.532</td> <td>    0.244</td>\n",
       "</tr>\n",
       "<tr>\n",
       "  <th>hour[T.4]</th>                  <td>   -3.0260</td> <td>    0.528</td> <td>   -5.727</td> <td> 0.000</td> <td>   -4.062</td> <td>   -1.990</td>\n",
       "</tr>\n",
       "<tr>\n",
       "  <th>hour[T.5]</th>                  <td>   -2.2039</td> <td>    0.376</td> <td>   -5.867</td> <td> 0.000</td> <td>   -2.940</td> <td>   -1.468</td>\n",
       "</tr>\n",
       "<tr>\n",
       "  <th>hour[T.6]</th>                  <td>   -3.1428</td> <td>    0.601</td> <td>   -5.231</td> <td> 0.000</td> <td>   -4.320</td> <td>   -1.965</td>\n",
       "</tr>\n",
       "<tr>\n",
       "  <th>hour[T.7]</th>                  <td>   -2.6172</td> <td>    0.447</td> <td>   -5.850</td> <td> 0.000</td> <td>   -3.494</td> <td>   -1.740</td>\n",
       "</tr>\n",
       "<tr>\n",
       "  <th>hour[T.8]</th>                  <td>   -2.2148</td> <td>    0.377</td> <td>   -5.878</td> <td> 0.000</td> <td>   -2.953</td> <td>   -1.476</td>\n",
       "</tr>\n",
       "<tr>\n",
       "  <th>hour[T.9]</th>                  <td>   -2.2080</td> <td>    0.401</td> <td>   -5.508</td> <td> 0.000</td> <td>   -2.994</td> <td>   -1.422</td>\n",
       "</tr>\n",
       "<tr>\n",
       "  <th>hour[T.10]</th>                 <td>   -2.6311</td> <td>    0.458</td> <td>   -5.744</td> <td> 0.000</td> <td>   -3.529</td> <td>   -1.733</td>\n",
       "</tr>\n",
       "<tr>\n",
       "  <th>hour[T.11]</th>                 <td>   -3.5404</td> <td>    0.642</td> <td>   -5.515</td> <td> 0.000</td> <td>   -4.799</td> <td>   -2.282</td>\n",
       "</tr>\n",
       "<tr>\n",
       "  <th>hour[T.12]</th>                 <td>   -1.5983</td> <td>    0.475</td> <td>   -3.367</td> <td> 0.001</td> <td>   -2.529</td> <td>   -0.668</td>\n",
       "</tr>\n",
       "<tr>\n",
       "  <th>hour[T.13]</th>                 <td>   -1.5013</td> <td>    0.473</td> <td>   -3.175</td> <td> 0.002</td> <td>   -2.428</td> <td>   -0.574</td>\n",
       "</tr>\n",
       "<tr>\n",
       "  <th>hour[T.14]</th>                 <td>   -1.0161</td> <td>    0.416</td> <td>   -2.442</td> <td> 0.015</td> <td>   -1.832</td> <td>   -0.200</td>\n",
       "</tr>\n",
       "<tr>\n",
       "  <th>hour[T.15]</th>                 <td>   -0.9721</td> <td>    0.402</td> <td>   -2.416</td> <td> 0.016</td> <td>   -1.761</td> <td>   -0.183</td>\n",
       "</tr>\n",
       "<tr>\n",
       "  <th>hour[T.16]</th>                 <td>   -1.2807</td> <td>    0.432</td> <td>   -2.965</td> <td> 0.003</td> <td>   -2.127</td> <td>   -0.434</td>\n",
       "</tr>\n",
       "<tr>\n",
       "  <th>hour[T.17]</th>                 <td>   -1.2383</td> <td>    0.418</td> <td>   -2.961</td> <td> 0.003</td> <td>   -2.058</td> <td>   -0.419</td>\n",
       "</tr>\n",
       "<tr>\n",
       "  <th>hour[T.18]</th>                 <td>   -1.8301</td> <td>    0.460</td> <td>   -3.982</td> <td> 0.000</td> <td>   -2.731</td> <td>   -0.929</td>\n",
       "</tr>\n",
       "<tr>\n",
       "  <th>hour[T.19]</th>                 <td>   -1.8026</td> <td>    0.532</td> <td>   -3.386</td> <td> 0.001</td> <td>   -2.846</td> <td>   -0.759</td>\n",
       "</tr>\n",
       "<tr>\n",
       "  <th>hour[T.20]</th>                 <td>   -1.6120</td> <td>    0.468</td> <td>   -3.443</td> <td> 0.001</td> <td>   -2.529</td> <td>   -0.694</td>\n",
       "</tr>\n",
       "<tr>\n",
       "  <th>hour[T.21]</th>                 <td>   -1.8780</td> <td>    0.466</td> <td>   -4.029</td> <td> 0.000</td> <td>   -2.792</td> <td>   -0.964</td>\n",
       "</tr>\n",
       "<tr>\n",
       "  <th>hour[T.22]</th>                 <td>    1.6928</td> <td>    0.255</td> <td>    6.643</td> <td> 0.000</td> <td>    1.193</td> <td>    2.192</td>\n",
       "</tr>\n",
       "<tr>\n",
       "  <th>hour[T.23]</th>                 <td>    1.8295</td> <td>    0.254</td> <td>    7.217</td> <td> 0.000</td> <td>    1.333</td> <td>    2.326</td>\n",
       "</tr>\n",
       "<tr>\n",
       "  <th>category[T.food_dining]</th>    <td>    0.6458</td> <td>    0.327</td> <td>    1.974</td> <td> 0.048</td> <td>    0.005</td> <td>    1.287</td>\n",
       "</tr>\n",
       "<tr>\n",
       "  <th>category[T.gas_transport]</th>  <td>    2.8235</td> <td>    0.323</td> <td>    8.750</td> <td> 0.000</td> <td>    2.191</td> <td>    3.456</td>\n",
       "</tr>\n",
       "<tr>\n",
       "  <th>category[T.grocery_net]</th>    <td>    2.2260</td> <td>    0.394</td> <td>    5.650</td> <td> 0.000</td> <td>    1.454</td> <td>    2.998</td>\n",
       "</tr>\n",
       "<tr>\n",
       "  <th>category[T.grocery_pos]</th>    <td>    2.5942</td> <td>    0.305</td> <td>    8.515</td> <td> 0.000</td> <td>    1.997</td> <td>    3.191</td>\n",
       "</tr>\n",
       "<tr>\n",
       "  <th>category[T.health_fitness]</th> <td>    0.7082</td> <td>    0.329</td> <td>    2.155</td> <td> 0.031</td> <td>    0.064</td> <td>    1.352</td>\n",
       "</tr>\n",
       "<tr>\n",
       "  <th>category[T.home]</th>           <td>    0.3284</td> <td>    0.307</td> <td>    1.070</td> <td> 0.285</td> <td>   -0.273</td> <td>    0.930</td>\n",
       "</tr>\n",
       "<tr>\n",
       "  <th>category[T.kids_pets]</th>      <td>    0.8922</td> <td>    0.305</td> <td>    2.928</td> <td> 0.003</td> <td>    0.295</td> <td>    1.489</td>\n",
       "</tr>\n",
       "<tr>\n",
       "  <th>category[T.misc_net]</th>       <td>    0.0490</td> <td>    0.382</td> <td>    0.128</td> <td> 0.898</td> <td>   -0.700</td> <td>    0.798</td>\n",
       "</tr>\n",
       "<tr>\n",
       "  <th>category[T.misc_pos]</th>       <td>    1.3711</td> <td>    0.319</td> <td>    4.301</td> <td> 0.000</td> <td>    0.746</td> <td>    1.996</td>\n",
       "</tr>\n",
       "<tr>\n",
       "  <th>category[T.personal_care]</th>  <td>    1.1407</td> <td>    0.306</td> <td>    3.728</td> <td> 0.000</td> <td>    0.541</td> <td>    1.740</td>\n",
       "</tr>\n",
       "<tr>\n",
       "  <th>category[T.shopping_net]</th>   <td>   -1.0182</td> <td>    0.378</td> <td>   -2.692</td> <td> 0.007</td> <td>   -1.760</td> <td>   -0.277</td>\n",
       "</tr>\n",
       "<tr>\n",
       "  <th>category[T.shopping_pos]</th>   <td>   -0.9986</td> <td>    0.372</td> <td>   -2.683</td> <td> 0.007</td> <td>   -1.728</td> <td>   -0.269</td>\n",
       "</tr>\n",
       "<tr>\n",
       "  <th>category[T.travel]</th>         <td>    1.2685</td> <td>    0.358</td> <td>    3.544</td> <td> 0.000</td> <td>    0.567</td> <td>    1.970</td>\n",
       "</tr>\n",
       "<tr>\n",
       "  <th>state[T.AZ]</th>                <td>   -1.3696</td> <td>    0.404</td> <td>   -3.393</td> <td> 0.001</td> <td>   -2.161</td> <td>   -0.578</td>\n",
       "</tr>\n",
       "<tr>\n",
       "  <th>state[T.CA]</th>                <td>   -1.6140</td> <td>    0.345</td> <td>   -4.684</td> <td> 0.000</td> <td>   -2.289</td> <td>   -0.939</td>\n",
       "</tr>\n",
       "<tr>\n",
       "  <th>state[T.CO]</th>                <td>   -1.5998</td> <td>    0.385</td> <td>   -4.155</td> <td> 0.000</td> <td>   -2.355</td> <td>   -0.845</td>\n",
       "</tr>\n",
       "<tr>\n",
       "  <th>state[T.HI]</th>                <td>   -2.4341</td> <td>    0.651</td> <td>   -3.737</td> <td> 0.000</td> <td>   -3.711</td> <td>   -1.157</td>\n",
       "</tr>\n",
       "<tr>\n",
       "  <th>state[T.ID]</th>                <td>   -1.9887</td> <td>    0.468</td> <td>   -4.254</td> <td> 0.000</td> <td>   -2.905</td> <td>   -1.072</td>\n",
       "</tr>\n",
       "<tr>\n",
       "  <th>state[T.MO]</th>                <td>   -1.4831</td> <td>    0.352</td> <td>   -4.209</td> <td> 0.000</td> <td>   -2.174</td> <td>   -0.793</td>\n",
       "</tr>\n",
       "<tr>\n",
       "  <th>state[T.NE]</th>                <td>   -1.3414</td> <td>    0.358</td> <td>   -3.752</td> <td> 0.000</td> <td>   -2.042</td> <td>   -0.641</td>\n",
       "</tr>\n",
       "<tr>\n",
       "  <th>state[T.NM]</th>                <td>   -1.6922</td> <td>    0.385</td> <td>   -4.401</td> <td> 0.000</td> <td>   -2.446</td> <td>   -0.939</td>\n",
       "</tr>\n",
       "<tr>\n",
       "  <th>state[T.OR]</th>                <td>   -1.4234</td> <td>    0.361</td> <td>   -3.944</td> <td> 0.000</td> <td>   -2.131</td> <td>   -0.716</td>\n",
       "</tr>\n",
       "<tr>\n",
       "  <th>state[T.UT]</th>                <td>   -1.3214</td> <td>    0.396</td> <td>   -3.334</td> <td> 0.001</td> <td>   -2.098</td> <td>   -0.545</td>\n",
       "</tr>\n",
       "<tr>\n",
       "  <th>state[T.WA]</th>                <td>   -1.5794</td> <td>    0.370</td> <td>   -4.272</td> <td> 0.000</td> <td>   -2.304</td> <td>   -0.855</td>\n",
       "</tr>\n",
       "<tr>\n",
       "  <th>state[T.WY]</th>                <td>   -1.5414</td> <td>    0.378</td> <td>   -4.080</td> <td> 0.000</td> <td>   -2.282</td> <td>   -0.801</td>\n",
       "</tr>\n",
       "<tr>\n",
       "  <th>age</th>                        <td>    0.0050</td> <td>    0.003</td> <td>    1.753</td> <td> 0.080</td> <td>   -0.001</td> <td>    0.011</td>\n",
       "</tr>\n",
       "<tr>\n",
       "  <th>amt</th>                        <td>    0.0084</td> <td>    0.000</td> <td>   25.201</td> <td> 0.000</td> <td>    0.008</td> <td>    0.009</td>\n",
       "</tr>\n",
       "<tr>\n",
       "  <th>distance_km</th>                <td>    0.0002</td> <td>    0.002</td> <td>    0.125</td> <td> 0.901</td> <td>   -0.003</td> <td>    0.003</td>\n",
       "</tr>\n",
       "</table>"
      ],
      "text/latex": [
       "\\begin{center}\n",
       "\\begin{tabular}{lclc}\n",
       "\\toprule\n",
       "\\textbf{Dep. Variable:}              &    is\\_fraud     & \\textbf{  No. Observations:  } &    10110    \\\\\n",
       "\\textbf{Model:}                      &      Logit       & \\textbf{  Df Residuals:      } &    10058    \\\\\n",
       "\\textbf{Method:}                     &       MLE        & \\textbf{  Df Model:          } &       51    \\\\\n",
       "\\textbf{Date:}                       & Sun, 01 Dec 2024 & \\textbf{  Pseudo R-squ.:     } &   0.5746    \\\\\n",
       "\\textbf{Time:}                       &     08:26:45     & \\textbf{  Log-Likelihood:    } &   -1635.6   \\\\\n",
       "\\textbf{converged:}                  &       True       & \\textbf{  LL-Null:           } &   -3844.5   \\\\\n",
       "\\textbf{Covariance Type:}            &    nonrobust     & \\textbf{  LLR p-value:       } &    0.000    \\\\\n",
       "\\bottomrule\n",
       "\\end{tabular}\n",
       "\\begin{tabular}{lcccccc}\n",
       "                                     & \\textbf{coef} & \\textbf{std err} & \\textbf{z} & \\textbf{P$> |$z$|$} & \\textbf{[0.025} & \\textbf{0.975]}  \\\\\n",
       "\\midrule\n",
       "\\textbf{Intercept}                   &      -3.1970  &        0.506     &    -6.314  &         0.000        &       -4.189    &       -2.205     \\\\\n",
       "\\textbf{hour[T.1]}                   &      -0.0119  &        0.194     &    -0.062  &         0.951        &       -0.391    &        0.367     \\\\\n",
       "\\textbf{hour[T.2]}                   &      -0.1448  &        0.203     &    -0.714  &         0.475        &       -0.542    &        0.253     \\\\\n",
       "\\textbf{hour[T.3]}                   &      -0.1440  &        0.198     &    -0.728  &         0.467        &       -0.532    &        0.244     \\\\\n",
       "\\textbf{hour[T.4]}                   &      -3.0260  &        0.528     &    -5.727  &         0.000        &       -4.062    &       -1.990     \\\\\n",
       "\\textbf{hour[T.5]}                   &      -2.2039  &        0.376     &    -5.867  &         0.000        &       -2.940    &       -1.468     \\\\\n",
       "\\textbf{hour[T.6]}                   &      -3.1428  &        0.601     &    -5.231  &         0.000        &       -4.320    &       -1.965     \\\\\n",
       "\\textbf{hour[T.7]}                   &      -2.6172  &        0.447     &    -5.850  &         0.000        &       -3.494    &       -1.740     \\\\\n",
       "\\textbf{hour[T.8]}                   &      -2.2148  &        0.377     &    -5.878  &         0.000        &       -2.953    &       -1.476     \\\\\n",
       "\\textbf{hour[T.9]}                   &      -2.2080  &        0.401     &    -5.508  &         0.000        &       -2.994    &       -1.422     \\\\\n",
       "\\textbf{hour[T.10]}                  &      -2.6311  &        0.458     &    -5.744  &         0.000        &       -3.529    &       -1.733     \\\\\n",
       "\\textbf{hour[T.11]}                  &      -3.5404  &        0.642     &    -5.515  &         0.000        &       -4.799    &       -2.282     \\\\\n",
       "\\textbf{hour[T.12]}                  &      -1.5983  &        0.475     &    -3.367  &         0.001        &       -2.529    &       -0.668     \\\\\n",
       "\\textbf{hour[T.13]}                  &      -1.5013  &        0.473     &    -3.175  &         0.002        &       -2.428    &       -0.574     \\\\\n",
       "\\textbf{hour[T.14]}                  &      -1.0161  &        0.416     &    -2.442  &         0.015        &       -1.832    &       -0.200     \\\\\n",
       "\\textbf{hour[T.15]}                  &      -0.9721  &        0.402     &    -2.416  &         0.016        &       -1.761    &       -0.183     \\\\\n",
       "\\textbf{hour[T.16]}                  &      -1.2807  &        0.432     &    -2.965  &         0.003        &       -2.127    &       -0.434     \\\\\n",
       "\\textbf{hour[T.17]}                  &      -1.2383  &        0.418     &    -2.961  &         0.003        &       -2.058    &       -0.419     \\\\\n",
       "\\textbf{hour[T.18]}                  &      -1.8301  &        0.460     &    -3.982  &         0.000        &       -2.731    &       -0.929     \\\\\n",
       "\\textbf{hour[T.19]}                  &      -1.8026  &        0.532     &    -3.386  &         0.001        &       -2.846    &       -0.759     \\\\\n",
       "\\textbf{hour[T.20]}                  &      -1.6120  &        0.468     &    -3.443  &         0.001        &       -2.529    &       -0.694     \\\\\n",
       "\\textbf{hour[T.21]}                  &      -1.8780  &        0.466     &    -4.029  &         0.000        &       -2.792    &       -0.964     \\\\\n",
       "\\textbf{hour[T.22]}                  &       1.6928  &        0.255     &     6.643  &         0.000        &        1.193    &        2.192     \\\\\n",
       "\\textbf{hour[T.23]}                  &       1.8295  &        0.254     &     7.217  &         0.000        &        1.333    &        2.326     \\\\\n",
       "\\textbf{category[T.food\\_dining]}    &       0.6458  &        0.327     &     1.974  &         0.048        &        0.005    &        1.287     \\\\\n",
       "\\textbf{category[T.gas\\_transport]}  &       2.8235  &        0.323     &     8.750  &         0.000        &        2.191    &        3.456     \\\\\n",
       "\\textbf{category[T.grocery\\_net]}    &       2.2260  &        0.394     &     5.650  &         0.000        &        1.454    &        2.998     \\\\\n",
       "\\textbf{category[T.grocery\\_pos]}    &       2.5942  &        0.305     &     8.515  &         0.000        &        1.997    &        3.191     \\\\\n",
       "\\textbf{category[T.health\\_fitness]} &       0.7082  &        0.329     &     2.155  &         0.031        &        0.064    &        1.352     \\\\\n",
       "\\textbf{category[T.home]}            &       0.3284  &        0.307     &     1.070  &         0.285        &       -0.273    &        0.930     \\\\\n",
       "\\textbf{category[T.kids\\_pets]}      &       0.8922  &        0.305     &     2.928  &         0.003        &        0.295    &        1.489     \\\\\n",
       "\\textbf{category[T.misc\\_net]}       &       0.0490  &        0.382     &     0.128  &         0.898        &       -0.700    &        0.798     \\\\\n",
       "\\textbf{category[T.misc\\_pos]}       &       1.3711  &        0.319     &     4.301  &         0.000        &        0.746    &        1.996     \\\\\n",
       "\\textbf{category[T.personal\\_care]}  &       1.1407  &        0.306     &     3.728  &         0.000        &        0.541    &        1.740     \\\\\n",
       "\\textbf{category[T.shopping\\_net]}   &      -1.0182  &        0.378     &    -2.692  &         0.007        &       -1.760    &       -0.277     \\\\\n",
       "\\textbf{category[T.shopping\\_pos]}   &      -0.9986  &        0.372     &    -2.683  &         0.007        &       -1.728    &       -0.269     \\\\\n",
       "\\textbf{category[T.travel]}          &       1.2685  &        0.358     &     3.544  &         0.000        &        0.567    &        1.970     \\\\\n",
       "\\textbf{state[T.AZ]}                 &      -1.3696  &        0.404     &    -3.393  &         0.001        &       -2.161    &       -0.578     \\\\\n",
       "\\textbf{state[T.CA]}                 &      -1.6140  &        0.345     &    -4.684  &         0.000        &       -2.289    &       -0.939     \\\\\n",
       "\\textbf{state[T.CO]}                 &      -1.5998  &        0.385     &    -4.155  &         0.000        &       -2.355    &       -0.845     \\\\\n",
       "\\textbf{state[T.HI]}                 &      -2.4341  &        0.651     &    -3.737  &         0.000        &       -3.711    &       -1.157     \\\\\n",
       "\\textbf{state[T.ID]}                 &      -1.9887  &        0.468     &    -4.254  &         0.000        &       -2.905    &       -1.072     \\\\\n",
       "\\textbf{state[T.MO]}                 &      -1.4831  &        0.352     &    -4.209  &         0.000        &       -2.174    &       -0.793     \\\\\n",
       "\\textbf{state[T.NE]}                 &      -1.3414  &        0.358     &    -3.752  &         0.000        &       -2.042    &       -0.641     \\\\\n",
       "\\textbf{state[T.NM]}                 &      -1.6922  &        0.385     &    -4.401  &         0.000        &       -2.446    &       -0.939     \\\\\n",
       "\\textbf{state[T.OR]}                 &      -1.4234  &        0.361     &    -3.944  &         0.000        &       -2.131    &       -0.716     \\\\\n",
       "\\textbf{state[T.UT]}                 &      -1.3214  &        0.396     &    -3.334  &         0.001        &       -2.098    &       -0.545     \\\\\n",
       "\\textbf{state[T.WA]}                 &      -1.5794  &        0.370     &    -4.272  &         0.000        &       -2.304    &       -0.855     \\\\\n",
       "\\textbf{state[T.WY]}                 &      -1.5414  &        0.378     &    -4.080  &         0.000        &       -2.282    &       -0.801     \\\\\n",
       "\\textbf{age}                         &       0.0050  &        0.003     &     1.753  &         0.080        &       -0.001    &        0.011     \\\\\n",
       "\\textbf{amt}                         &       0.0084  &        0.000     &    25.201  &         0.000        &        0.008    &        0.009     \\\\\n",
       "\\textbf{distance\\_km}                &       0.0002  &        0.002     &     0.125  &         0.901        &       -0.003    &        0.003     \\\\\n",
       "\\bottomrule\n",
       "\\end{tabular}\n",
       "%\\caption{Logit Regression Results}\n",
       "\\end{center}"
      ],
      "text/plain": [
       "<class 'statsmodels.iolib.summary.Summary'>\n",
       "\"\"\"\n",
       "                           Logit Regression Results                           \n",
       "==============================================================================\n",
       "Dep. Variable:               is_fraud   No. Observations:                10110\n",
       "Model:                          Logit   Df Residuals:                    10058\n",
       "Method:                           MLE   Df Model:                           51\n",
       "Date:                Sun, 01 Dec 2024   Pseudo R-squ.:                  0.5746\n",
       "Time:                        08:26:45   Log-Likelihood:                -1635.6\n",
       "converged:                       True   LL-Null:                       -3844.5\n",
       "Covariance Type:            nonrobust   LLR p-value:                     0.000\n",
       "==============================================================================================\n",
       "                                 coef    std err          z      P>|z|      [0.025      0.975]\n",
       "----------------------------------------------------------------------------------------------\n",
       "Intercept                     -3.1970      0.506     -6.314      0.000      -4.189      -2.205\n",
       "hour[T.1]                     -0.0119      0.194     -0.062      0.951      -0.391       0.367\n",
       "hour[T.2]                     -0.1448      0.203     -0.714      0.475      -0.542       0.253\n",
       "hour[T.3]                     -0.1440      0.198     -0.728      0.467      -0.532       0.244\n",
       "hour[T.4]                     -3.0260      0.528     -5.727      0.000      -4.062      -1.990\n",
       "hour[T.5]                     -2.2039      0.376     -5.867      0.000      -2.940      -1.468\n",
       "hour[T.6]                     -3.1428      0.601     -5.231      0.000      -4.320      -1.965\n",
       "hour[T.7]                     -2.6172      0.447     -5.850      0.000      -3.494      -1.740\n",
       "hour[T.8]                     -2.2148      0.377     -5.878      0.000      -2.953      -1.476\n",
       "hour[T.9]                     -2.2080      0.401     -5.508      0.000      -2.994      -1.422\n",
       "hour[T.10]                    -2.6311      0.458     -5.744      0.000      -3.529      -1.733\n",
       "hour[T.11]                    -3.5404      0.642     -5.515      0.000      -4.799      -2.282\n",
       "hour[T.12]                    -1.5983      0.475     -3.367      0.001      -2.529      -0.668\n",
       "hour[T.13]                    -1.5013      0.473     -3.175      0.002      -2.428      -0.574\n",
       "hour[T.14]                    -1.0161      0.416     -2.442      0.015      -1.832      -0.200\n",
       "hour[T.15]                    -0.9721      0.402     -2.416      0.016      -1.761      -0.183\n",
       "hour[T.16]                    -1.2807      0.432     -2.965      0.003      -2.127      -0.434\n",
       "hour[T.17]                    -1.2383      0.418     -2.961      0.003      -2.058      -0.419\n",
       "hour[T.18]                    -1.8301      0.460     -3.982      0.000      -2.731      -0.929\n",
       "hour[T.19]                    -1.8026      0.532     -3.386      0.001      -2.846      -0.759\n",
       "hour[T.20]                    -1.6120      0.468     -3.443      0.001      -2.529      -0.694\n",
       "hour[T.21]                    -1.8780      0.466     -4.029      0.000      -2.792      -0.964\n",
       "hour[T.22]                     1.6928      0.255      6.643      0.000       1.193       2.192\n",
       "hour[T.23]                     1.8295      0.254      7.217      0.000       1.333       2.326\n",
       "category[T.food_dining]        0.6458      0.327      1.974      0.048       0.005       1.287\n",
       "category[T.gas_transport]      2.8235      0.323      8.750      0.000       2.191       3.456\n",
       "category[T.grocery_net]        2.2260      0.394      5.650      0.000       1.454       2.998\n",
       "category[T.grocery_pos]        2.5942      0.305      8.515      0.000       1.997       3.191\n",
       "category[T.health_fitness]     0.7082      0.329      2.155      0.031       0.064       1.352\n",
       "category[T.home]               0.3284      0.307      1.070      0.285      -0.273       0.930\n",
       "category[T.kids_pets]          0.8922      0.305      2.928      0.003       0.295       1.489\n",
       "category[T.misc_net]           0.0490      0.382      0.128      0.898      -0.700       0.798\n",
       "category[T.misc_pos]           1.3711      0.319      4.301      0.000       0.746       1.996\n",
       "category[T.personal_care]      1.1407      0.306      3.728      0.000       0.541       1.740\n",
       "category[T.shopping_net]      -1.0182      0.378     -2.692      0.007      -1.760      -0.277\n",
       "category[T.shopping_pos]      -0.9986      0.372     -2.683      0.007      -1.728      -0.269\n",
       "category[T.travel]             1.2685      0.358      3.544      0.000       0.567       1.970\n",
       "state[T.AZ]                   -1.3696      0.404     -3.393      0.001      -2.161      -0.578\n",
       "state[T.CA]                   -1.6140      0.345     -4.684      0.000      -2.289      -0.939\n",
       "state[T.CO]                   -1.5998      0.385     -4.155      0.000      -2.355      -0.845\n",
       "state[T.HI]                   -2.4341      0.651     -3.737      0.000      -3.711      -1.157\n",
       "state[T.ID]                   -1.9887      0.468     -4.254      0.000      -2.905      -1.072\n",
       "state[T.MO]                   -1.4831      0.352     -4.209      0.000      -2.174      -0.793\n",
       "state[T.NE]                   -1.3414      0.358     -3.752      0.000      -2.042      -0.641\n",
       "state[T.NM]                   -1.6922      0.385     -4.401      0.000      -2.446      -0.939\n",
       "state[T.OR]                   -1.4234      0.361     -3.944      0.000      -2.131      -0.716\n",
       "state[T.UT]                   -1.3214      0.396     -3.334      0.001      -2.098      -0.545\n",
       "state[T.WA]                   -1.5794      0.370     -4.272      0.000      -2.304      -0.855\n",
       "state[T.WY]                   -1.5414      0.378     -4.080      0.000      -2.282      -0.801\n",
       "age                            0.0050      0.003      1.753      0.080      -0.001       0.011\n",
       "amt                            0.0084      0.000     25.201      0.000       0.008       0.009\n",
       "distance_km                    0.0002      0.002      0.125      0.901      -0.003       0.003\n",
       "==============================================================================================\n",
       "\"\"\""
      ]
     },
     "metadata": {},
     "output_type": "display_data"
    }
   ],
   "source": [
    "from IPython.display import display\n",
    "#Predict Probabilities\n",
    "preds = log_reg.predict(test_data)\n",
    "#Add predictions and agreement columns to the dataframe\n",
    "test_data['prob'] = preds\n",
    "test_data['prediction'] = np.where(test_data['prob'] > 0.4, 1, 0)\n",
    "test_data['agree'] = np.where(test_data['prediction'] == test_data['is_fraud'], 1, 0)\n",
    "#calculate naive accuracy, model accuracy, and AUC\n",
    "naive_accuracy = 1 - test_data['is_fraud'].sum() / len(test_data)\n",
    "accuracy = test_data['agree'].sum() / len(test_data)\n",
    "auc = roc_auc_score(test_data['is_fraud'], preds)\n",
    "#Identify Disagreements\n",
    "disagree = test_data[test_data['agree'] == 0]\n",
    "#Display Results\n",
    "display(naive_accuracy, accuracy, auc, log_reg.summary())"
   ]
  },
  {
   "cell_type": "code",
   "execution_count": 105,
   "metadata": {
    "execution": {
     "iopub.execute_input": "2024-10-02T00:21:29.075596Z",
     "iopub.status.busy": "2024-10-02T00:21:29.074996Z",
     "iopub.status.idle": "2024-10-02T00:21:29.28127Z",
     "shell.execute_reply": "2024-10-02T00:21:29.280015Z",
     "shell.execute_reply.started": "2024-10-02T00:21:29.07554Z"
    },
    "trusted": true
   },
   "outputs": [
    {
     "data": {
      "image/png": "[encoded data removed]",
      "text/plain": [
       "<Figure size 800x600 with 1 Axes>"
      ]
     },
     "metadata": {},
     "output_type": "display_data"
    },
    {
     "name": "stdout",
     "output_type": "stream",
     "text": [
      "############################################################\n",
      "                                                             Classification Report\n",
      "              precision    recall  f1-score   support\n",
      "\n",
      "           0       0.96      0.98      0.97      3772\n",
      "           1       0.87      0.72      0.79       562\n",
      "\n",
      "    accuracy                           0.95      4334\n",
      "   macro avg       0.91      0.85      0.88      4334\n",
      "weighted avg       0.95      0.95      0.95      4334\n",
      "\n"
     ]
    }
   ],
   "source": [
    "# Compute the confusion matrix\n",
    "cm = confusion_matrix(test_data['is_fraud'], test_data['prediction'])\n",
    "\n",
    "# Define labels for the classes\n",
    "labels = [\"Not Fraud\", \"Fraud\"]\n",
    "\n",
    "plt.figure(figsize=(8,6))\n",
    "sns.heatmap(cm, annot=True, fmt='d', cmap='Blues', cbar=False, \n",
    "            xticklabels=labels, yticklabels=labels, annot_kws={\"size\": 12})\n",
    "plt.xlabel('Predicted Labels')\n",
    "plt.ylabel('True Labels')\n",
    "plt.title('Confusion Matrix')\n",
    "plt.show()\n",
    "\n",
    "\n",
    "print(\"#\" * 60)\n",
    "print(\" \" * 60, \"Classification Report\")\n",
    "print(classification_report(test_data['is_fraud'], test_data['prediction']))"
   ]
  },
  {
   "cell_type": "code",
   "execution_count": 106,
   "metadata": {
    "execution": {
     "iopub.execute_input": "2024-10-02T00:21:31.422487Z",
     "iopub.status.busy": "2024-10-02T00:21:31.421879Z",
     "iopub.status.idle": "2024-10-02T00:21:31.799023Z",
     "shell.execute_reply": "2024-10-02T00:21:31.797912Z",
     "shell.execute_reply.started": "2024-10-02T00:21:31.422428Z"
    },
    "trusted": true
   },
   "outputs": [
    {
     "data": {
      "image/png": "[encoded data removed]",
      "text/plain": [
       "<Figure size 800x600 with 1 Axes>"
      ]
     },
     "metadata": {},
     "output_type": "display_data"
    }
   ],
   "source": [
    "preds = log_reg.predict(test_data)\n",
    "y_pred_proba = 1 / (1 + np.exp(-preds))\n",
    "\n",
    "fpr, tpr, _ = roc_curve(test_data['is_fraud'], y_pred_proba)\n",
    "\n",
    "plt.figure(figsize=(8,6))\n",
    "plt.plot(fpr, tpr, color='b', label=f'AUC = {auc:.2f}')\n",
    "plt.plot([0, 1], [0, 1], 'r--', label='Random Guessing')\n",
    "plt.xlabel('False Positive Rate')\n",
    "plt.ylabel('True Positive Rate')\n",
    "plt.title('Roc Curve')\n",
    "plt.legend(loc='lower right')\n",
    "plt.grid(True)\n",
    "plt.show()"
   ]
  },
  {
   "cell_type": "markdown",
   "metadata": {},
   "source": [
    "Gradient Boosted Random Forest for Fraud Prediction"
   ]
  },
  {
   "cell_type": "code",
   "execution_count": 107,
   "metadata": {},
   "outputs": [],
   "source": [
    "#creating a new dataframe for the Random Forest\n",
    "dftree = df[['is_fraud', 'merchant', 'category', 'amt', 'city_pop', 'age', 'hour', 'day_of_week', 'distance_km']].copy()\n",
    "from sklearn.preprocessing import LabelEncoder\n",
    "\n",
    "# Initialize the label encoder\n",
    "le = LabelEncoder()\n",
    "\n",
    "# Apply label encoding to each categorical column\n",
    "dftree['merchant'] = le.fit_transform(dftree['merchant'])\n",
    "dftree['category'] = le.fit_transform(dftree['category'])\n",
    "dftree['day_of_week'] = le.fit_transform(dftree['day_of_week'])\n",
    "dftree['hour'] = le.fit_transform(dftree['hour'])"
   ]
  },
  {
   "cell_type": "code",
   "execution_count": 108,
   "metadata": {},
   "outputs": [
    {
     "data": {
      "image/png": "[encoded data removed]",
      "text/plain": [
       "<Figure size 800x600 with 1 Axes>"
      ]
     },
     "metadata": {},
     "output_type": "display_data"
    },
    {
     "name": "stdout",
     "output_type": "stream",
     "text": [
      "############################################################\n",
      "                     Classification Report\n",
      "              precision    recall  f1-score   support\n",
      "\n",
      "           0       0.98      0.99      0.99      3781\n",
      "           1       0.96      0.87      0.91       553\n",
      "\n",
      "    accuracy                           0.98      4334\n",
      "   macro avg       0.97      0.93      0.95      4334\n",
      "weighted avg       0.98      0.98      0.98      4334\n",
      "\n"
     ]
    }
   ],
   "source": [
    "from sklearn.ensemble import RandomForestClassifier\n",
    "from sklearn.model_selection import train_test_split\n",
    "from sklearn.metrics import classification_report, confusion_matrix, roc_auc_score\n",
    "\n",
    "# Splitting the dataset into train and test sets\n",
    "X = dftree.drop(columns=['is_fraud'])  # Features\n",
    "y = dftree['is_fraud']                # Target variable\n",
    "\n",
    "X_train, X_test, y_train, y_test = train_test_split(X, y, test_size=0.3, random_state=42, stratify=y)\n",
    "\n",
    "# Initialize Random Forest with class weight to handle imbalanced classes\n",
    "rf = RandomForestClassifier(class_weight='balanced', random_state=42)\n",
    "\n",
    "# Train the model\n",
    "rf.fit(X_train, y_train)\n",
    "\n",
    "# Make predictions\n",
    "y_pred = rf.predict(X_test)\n",
    "y_prob = rf.predict_proba(X_test)[:, 1]  # For AUC-ROC score\n",
    "\n",
    "\n",
    "# Compute the confusion matrix\n",
    "cm1 = confusion_matrix(y_test, y_pred)\n",
    "# Define labels for the classes\n",
    "labels = [\"Not Fraud\", \"Fraud\"]\n",
    "plt.figure(figsize=(8,6))\n",
    "sns.heatmap(cm1, annot=True, fmt='d', cmap='Blues', cbar=False, \n",
    "            xticklabels=labels, yticklabels=labels, annot_kws={\"size\": 12})\n",
    "plt.xlabel('Predicted Labels')\n",
    "plt.ylabel('True Labels')\n",
    "plt.title('Confusion Matrix')\n",
    "plt.show()\n",
    "\n",
    "print(\"#\" * 60)\n",
    "print(\" \" * 20, \"Classification Report\")\n",
    "print(classification_report(y_test, y_pred))"
   ]
  },
  {
   "cell_type": "code",
   "execution_count": 109,
   "metadata": {},
   "outputs": [
    {
     "data": {
      "image/png": "[encoded data removed]",
      "text/plain": [
       "<Figure size 1000x600 with 1 Axes>"
      ]
     },
     "metadata": {},
     "output_type": "display_data"
    }
   ],
   "source": [
    "importances = rf.feature_importances_\n",
    "\n",
    "indices = np.argsort(importances)[::-1]\n",
    "\n",
    "feature_names = X_train.columns\n",
    "\n",
    "# Plot feature importances\n",
    "plt.figure(figsize=(10, 6))\n",
    "plt.title(\"Feature Importance in Random Forest\")\n",
    "plt.bar(range(X_train.shape[1]), importances[indices], align=\"center\")\n",
    "plt.xticks(range(X_train.shape[1]), np.array(feature_names)[indices], rotation=90)\n",
    "plt.xlim([-1, X_train.shape[1]])\n",
    "plt.show()"
   ]
  },
  {
   "cell_type": "code",
   "execution_count": 110,
   "metadata": {},
   "outputs": [
    {
     "name": "stdout",
     "output_type": "stream",
     "text": [
      "{'bootstrap': True, 'ccp_alpha': 0.0, 'class_weight': 'balanced', 'criterion': 'gini', 'max_depth': None, 'max_features': 'sqrt', 'max_leaf_nodes': None, 'max_samples': None, 'min_impurity_decrease': 0.0, 'min_samples_leaf': 1, 'min_samples_split': 2, 'min_weight_fraction_leaf': 0.0, 'monotonic_cst': None, 'n_estimators': 100, 'n_jobs': None, 'oob_score': False, 'random_state': 42, 'verbose': 0, 'warm_start': False}\n"
     ]
    }
   ],
   "source": [
    "print(rf.get_params())"
   ]
  },
  {
   "cell_type": "code",
   "execution_count": 111,
   "metadata": {},
   "outputs": [
    {
     "data": {
      "image/png": "[encoded data removed]",
      "text/plain": [
       "<Figure size 800x600 with 1 Axes>"
      ]
     },
     "metadata": {},
     "output_type": "display_data"
    }
   ],
   "source": [
    "import matplotlib.pyplot as plt\n",
    "from sklearn.metrics import roc_curve, auc, roc_auc_score\n",
    "fpr, tpr, thresholds = roc_curve(y_test, y_prob)\n",
    "\n",
    "roc_auc = auc(fpr, tpr)\n",
    "\n",
    "# Plot the ROC curve\n",
    "plt.figure(figsize=(8, 6))\n",
    "plt.plot(fpr, tpr, color='b', lw=2, label='ROC curve (AUC = %0.2f)' % roc_auc)\n",
    "plt.plot([0, 1], [0, 1], 'r--', label='Random Guessing')\n",
    "plt.xlim([0.0, 1.0])\n",
    "plt.ylim([0.0, 1.05])\n",
    "plt.xlabel('False Positive Rate')\n",
    "plt.ylabel('True Positive Rate')\n",
    "plt.title('Receiver Operating Characteristic (ROC)')\n",
    "plt.legend(loc=\"lower right\")\n",
    "plt.show()\n"
   ]
  },
  {
   "cell_type": "code",
   "execution_count": 112,
   "metadata": {},
   "outputs": [
    {
     "name": "stdout",
     "output_type": "stream",
     "text": [
      "AUC scores for each fold: [0.99086656 0.99029122 0.9936309  0.98812642 0.98812274]\n",
      "Mean AUC score: 0.9902075685665845\n"
     ]
    }
   ],
   "source": [
    "from sklearn.model_selection import cross_val_score\n",
    "# Perform 5-fold cross-validation\n",
    "scores = cross_val_score(rf, X, y, cv=5, scoring='roc_auc')\n",
    "\n",
    "# Print each fold's AUC score and the average\n",
    "print(\"AUC scores for each fold:\", scores)\n",
    "print(\"Mean AUC score:\", scores.mean())"
   ]
  },
  {
   "cell_type": "markdown",
   "metadata": {},
   "source": [
    "#### Contributions\n",
    "\n",
    "Cody:\n",
    "- Found initial model\n",
    "- Made edits to paramaters\n",
    "- Made edits to features\n",
    "- Tweaked logistic regression\n",
    "\n",
    "Chase:\n",
    "- Implemented random forest\n",
    "- Edited forest as necessary\n",
    "\n",
    "Pedro:\n",
    "- Most of the mid-term report\n",
    "- Most of the poster and printing"
   ]
  }
 ],
 "metadata": {
  "kaggle": {
   "accelerator": "none",
   "dataSources": [
    {
     "datasetId": 5465782,
     "sourceId": 9063308,
     "sourceType": "datasetVersion"
    }
   ],
   "dockerImageVersionId": 30775,
   "isGpuEnabled": false,
   "isInternetEnabled": false,
   "language": "python",
   "sourceType": "notebook"
  },
  "kernelspec": {
   "display_name": "base",
   "language": "python",
   "name": "python3"
  },
  "language_info": {
   "codemirror_mode": {
    "name": "ipython",
    "version": 3
   },
   "file_extension": ".py",
   "mimetype": "text/x-python",
   "name": "python",
   "nbconvert_exporter": "python",
   "pygments_lexer": "ipython3",
   "version": "3.12.3"
  }
 },
 "nbformat": 4,
 "nbformat_minor": 4
}
